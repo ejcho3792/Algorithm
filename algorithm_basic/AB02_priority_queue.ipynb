{
 "cells": [
  {
   "cell_type": "markdown",
   "id": "09319aab",
   "metadata": {},
   "source": [
    "# 2. 우선순위 큐\n",
    "---"
   ]
  },
  {
   "cell_type": "markdown",
   "id": "240113c6",
   "metadata": {},
   "source": [
    "## (1) 우선순위 큐 \n",
    "- 우선순위가 가장 높은 데이터를 가장 먼저 삭제하는 자료구조   \n",
    "   \n",
    "\n",
    "* 구현방법    \n",
    "1) 리스트 이용   \n",
    "2) 힙(heap) 이용"
   ]
  },
  {
   "cell_type": "markdown",
   "id": "92fca6f6",
   "metadata": {},
   "source": [
    "## (2) 힙의 특징   \n",
    "항상 루트 노드를 제거   \n",
    "- 최소힙 : 루트 노드가 가장 작은 값을 가짐 -> 값이 작은 데이터가 우선적으로 제거   \n",
    "- 최대힙 : 루트 노드가 가장 큰 값을 가짐 -> 값이 큰 데이터가 우선적으로 제거   \n",
    "\n",
    "최소 힙 구성 함수 ; Min-Heapify()   \n",
    " * 상향식. 부모보다 자신이 더 작은 경우 위치를 교체   \n"
   ]
  },
  {
   "cell_type": "code",
   "execution_count": null,
   "id": "4c572743",
   "metadata": {},
   "outputs": [],
   "source": [
    "import sys\n",
    "import heapq\n",
    "input=sys.stdin.readline\n",
    "\n",
    "def heapsort(iterable):\n",
    "    h=[]\n",
    "    res=[]\n",
    "    # 모든 원소를 차례로 힙에 삽입\n",
    "    for value in iterable:\n",
    "        heapq.heappush(h,value)\n",
    "    # 힙에 삽입된 모든 원소를 차례로 꺼내어 담기\n",
    "    for i in range(len(h)):\n",
    "        res.append(heapq.heappop(h))\n",
    "    return res\n",
    "n=int(input())\n",
    "arr=[]\n",
    "for i in range(n):\n",
    "    arr.append(int(input))\n",
    "res=heapsort(arr)\n",
    "for i in range(n):\n",
    "    print(res[i])"
   ]
  }
 ],
 "metadata": {
  "kernelspec": {
   "display_name": "Python 3 (ipykernel)",
   "language": "python",
   "name": "python3"
  },
  "language_info": {
   "codemirror_mode": {
    "name": "ipython",
    "version": 3
   },
   "file_extension": ".py",
   "mimetype": "text/x-python",
   "name": "python",
   "nbconvert_exporter": "python",
   "pygments_lexer": "ipython3",
   "version": "3.8.12"
  }
 },
 "nbformat": 4,
 "nbformat_minor": 5
}

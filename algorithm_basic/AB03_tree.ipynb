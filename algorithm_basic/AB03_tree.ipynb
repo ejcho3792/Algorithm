{
 "cells": [
  {
   "cell_type": "markdown",
   "id": "6484d5dc",
   "metadata": {},
   "source": [
    "# 3. 트리구조"
   ]
  },
  {
   "cell_type": "markdown",
   "id": "6441c0a5",
   "metadata": {},
   "source": [
    "## 1) 트리구조\n",
    "- 루트노드(root node) : 최상위 노드    \n",
    "- 단말노드(leaf node) : 자식이 없는 노드   \n",
    "- 크기 : 트리에 포함된 모든 노드의 개수\n",
    "- 깊이 : 루트 노드부터 거리\n",
    "- 높이 : 깊이의 최댓값\n",
    "- 차수(degree) : 자식방향의 간선 개수 \n",
    "- 트리의 크기가 n이면 간선의 개수는 n-1"
   ]
  },
  {
   "cell_type": "markdown",
   "id": "e022e6cd",
   "metadata": {},
   "source": [
    "## 2) 이진 탐색 트리\n",
    "\n",
    "이진탐색이 동작할 수 있도록 고안된 자료구조\n",
    "\n",
    "- 왼쪽 자식노드 < 부모노드 < 오른쪽 자식 노드\n",
    "\n",
    "루트노드부터 방문하여 찾고자 하는 값과 비교한다.   \n",
    "찾고자 하는 노드가 더 크다면 오른쪽으로 방문, 작다면 왼쪽으로 방문   \n"
   ]
  },
  {
   "cell_type": "markdown",
   "id": "cce35292",
   "metadata": {},
   "source": [
    "## 3) 트리의 순회( tree traversal)\n",
    "\n",
    "- 전위 순회(pre-order traverse) : 루트 먼저 방문   \n",
    "- 중위 순회(in-order traverse) : 왼쪽 자식을 방문한 뒤에 루트를 방문   \n",
    "- 후위 순회(post-order traverse) : 왼쪽 방문, 오른쪽 자식을 방문한 뒤에 루트를 방문   "
   ]
  }
 ],
 "metadata": {
  "kernelspec": {
   "display_name": "Python 3 (ipykernel)",
   "language": "python",
   "name": "python3"
  },
  "language_info": {
   "codemirror_mode": {
    "name": "ipython",
    "version": 3
   },
   "file_extension": ".py",
   "mimetype": "text/x-python",
   "name": "python",
   "nbconvert_exporter": "python",
   "pygments_lexer": "ipython3",
   "version": "3.8.12"
  }
 },
 "nbformat": 4,
 "nbformat_minor": 5
}

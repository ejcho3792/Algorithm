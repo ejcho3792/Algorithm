{
 "cells": [
  {
   "cell_type": "markdown",
   "id": "cc47c4d1",
   "metadata": {},
   "source": [
    "# 4. 바이너리 인덱스 트리"
   ]
  },
  {
   "cell_type": "markdown",
   "id": "6f290c21",
   "metadata": {},
   "source": [
    "---\n",
    "## 1) 바이너리 인덱스 트리\n",
    "\n",
    "- 이진법 인덱스 구조를 활용해 구간합 문제를 효과적으로 해결\n",
    "( = 펜윅트리)\n"
   ]
  },
  {
   "cell_type": "code",
   "execution_count": null,
   "id": "e7692935",
   "metadata": {},
   "outputs": [],
   "source": []
  }
 ],
 "metadata": {
  "kernelspec": {
   "display_name": "Python 3 (ipykernel)",
   "language": "python",
   "name": "python3"
  },
  "language_info": {
   "codemirror_mode": {
    "name": "ipython",
    "version": 3
   },
   "file_extension": ".py",
   "mimetype": "text/x-python",
   "name": "python",
   "nbconvert_exporter": "python",
   "pygments_lexer": "ipython3",
   "version": "3.8.12"
  }
 },
 "nbformat": 4,
 "nbformat_minor": 5
}

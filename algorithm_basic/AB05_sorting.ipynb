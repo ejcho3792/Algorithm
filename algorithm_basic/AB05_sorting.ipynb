{
 "cells": [
  {
   "cell_type": "markdown",
   "id": "336c495b",
   "metadata": {},
   "source": [
    "# 정렬\n",
    " - 데이터를 특정한 기준에 따라 정렬   \n",
    "---\n",
    "1. 선택정렬 : 가장 작은 데이터를 선택해 맨 앞의 데이터와 바꾸기   \n"
   ]
  },
  {
   "cell_type": "code",
   "execution_count": 2,
   "id": "9120be53",
   "metadata": {},
   "outputs": [
    {
     "name": "stdout",
     "output_type": "stream",
     "text": [
      "[0, 1, 2, 3, 4, 5, 6, 7, 8, 9]\n"
     ]
    }
   ],
   "source": [
    "arr=[7,5,9,0,3,1,6,2,4,8]\n",
    "\n",
    "for i in range(len(arr)):\n",
    "    min_ind=i\n",
    "    for j in range(i+1,len(arr)):\n",
    "        if arr[min_ind]>arr[j]:\n",
    "            min_ind=j\n",
    "    arr[i],arr[min_ind]=arr[min_ind],arr[i]\n",
    "    \n",
    "print(arr)"
   ]
  },
  {
   "cell_type": "markdown",
   "id": "1e2d9fd2",
   "metadata": {},
   "source": [
    "2. 삽입정렬 : 데이터를 하나하나 확인하여 적절한 위치에 삽입"
   ]
  },
  {
   "cell_type": "code",
   "execution_count": 3,
   "id": "56519b11",
   "metadata": {},
   "outputs": [
    {
     "name": "stdout",
     "output_type": "stream",
     "text": [
      "[0, 1, 2, 3, 4, 5, 6, 7, 8, 9]\n"
     ]
    }
   ],
   "source": [
    "arr=[7,5,9,0,3,1,6,2,4,8]\n",
    "\n",
    "for i in range(len(arr)):\n",
    "    for j in range(i,0,-1):\n",
    "        if arr[j]<arr[j-1]:\n",
    "            arr[j],arr[j-1]=arr[j-1],arr[j]\n",
    "        else:\n",
    "            break\n",
    "print(arr)"
   ]
  }
 ],
 "metadata": {
  "kernelspec": {
   "display_name": "Python 3 (ipykernel)",
   "language": "python",
   "name": "python3"
  },
  "language_info": {
   "codemirror_mode": {
    "name": "ipython",
    "version": 3
   },
   "file_extension": ".py",
   "mimetype": "text/x-python",
   "name": "python",
   "nbconvert_exporter": "python",
   "pygments_lexer": "ipython3",
   "version": "3.8.12"
  }
 },
 "nbformat": 4,
 "nbformat_minor": 5
}

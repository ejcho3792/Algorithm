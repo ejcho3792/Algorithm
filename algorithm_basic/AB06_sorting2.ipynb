{
 "cells": [
  {
   "cell_type": "markdown",
   "id": "81d0eccf",
   "metadata": {},
   "source": [
    "1. 퀵 정렬 : 기준 데이터(pivot)를 설정하여 기준보다 큰 데이터와 작은 데이터의 위치를 바꾸는 방법"
   ]
  },
  {
   "cell_type": "code",
   "execution_count": null,
   "id": "744df769",
   "metadata": {},
   "outputs": [],
   "source": [
    "arr=[5,7,9,0,3,1,6,2,4,8]"
   ]
  }
 ],
 "metadata": {
  "kernelspec": {
   "display_name": "Python 3 (ipykernel)",
   "language": "python",
   "name": "python3"
  },
  "language_info": {
   "codemirror_mode": {
    "name": "ipython",
    "version": 3
   },
   "file_extension": ".py",
   "mimetype": "text/x-python",
   "name": "python",
   "nbconvert_exporter": "python",
   "pygments_lexer": "ipython3",
   "version": "3.8.12"
  }
 },
 "nbformat": 4,
 "nbformat_minor": 5
}

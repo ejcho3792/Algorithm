{
 "cells": [
  {
   "cell_type": "markdown",
   "id": "a8459a0a",
   "metadata": {},
   "source": [
    "1. 퀵 정렬 : 기준 데이터(pivot)를 설정하여 기준보다 큰 데이터와 작은 데이터의 위치를 바꾸는 방법"
   ]
  },
  {
   "cell_type": "code",
   "execution_count": 1,
   "id": "84c087db",
   "metadata": {},
   "outputs": [
    {
     "name": "stdout",
     "output_type": "stream",
     "text": [
      "[0, 1, 2, 3, 4, 5, 6, 7, 8, 9]\n"
     ]
    }
   ],
   "source": [
    "\n",
    "arr=[5,7,9,0,3,1,6,2,4,8]\n",
    "\n",
    "def qu(arr,start,end):\n",
    "    if start>=end:\n",
    "        return\n",
    "    pivot=start\n",
    "    l=start+1\n",
    "    r=end\n",
    "    while(l<=r):\n",
    "        while(l<=end and arr[l]<arr[pivot]):\n",
    "            l+=1\n",
    "        while(r>end and arr[r]>=arr[pivot]):\n",
    "            r-=1\n",
    "        if(l>r):\n",
    "            arr[r],arr[pivot]=arr[pivot],arr[r]\n",
    "        else:\n",
    "            arr[l],arr[pivot]=arr[pivot],arr[l]\n",
    "    qu(arr,start,r-1)\n",
    "    qu(arr,r+1,end)\n",
    "    \n",
    "qu(arr,0,len(arr)-1)\n",
    "print(arr)"
   ]
  },
  {
   "cell_type": "markdown",
   "id": "18984503",
   "metadata": {},
   "source": [
    "2. 계수정렬 : 데이터 크기 범위가 제한되어 정수 형태로 표현할 수 있을때 사용. 매우 빠르게 동작"
   ]
  },
  {
   "cell_type": "code",
   "execution_count": 2,
   "id": "8ae6df25",
   "metadata": {},
   "outputs": [
    {
     "name": "stdout",
     "output_type": "stream",
     "text": [
      "0 0 1 1 2 2 3 4 5 5 6 7 8 9 9 "
     ]
    }
   ],
   "source": [
    "arr=[7,5,9,0,3,1,6,2,9,1,4,8,0,5,2]\n",
    "cnt=[0]*(max(arr)+1)\n",
    "\n",
    "for i in range(len(arr)):\n",
    "    cnt[arr[i]]+=1\n",
    "for i in range(len(cnt)):\n",
    "    for j in range(cnt[i]):\n",
    "        print(i,end=' ')"
   ]
  }
 ],
 "metadata": {
  "kernelspec": {
   "display_name": "Python 3 (ipykernel)",
   "language": "python",
   "name": "python3"
  },
  "language_info": {
   "codemirror_mode": {
    "name": "ipython",
    "version": 3
   },
   "file_extension": ".py",
   "mimetype": "text/x-python",
   "name": "python",
   "nbconvert_exporter": "python",
   "pygments_lexer": "ipython3",
   "version": "3.8.12"
  }
 },
 "nbformat": 4,
 "nbformat_minor": 5
}

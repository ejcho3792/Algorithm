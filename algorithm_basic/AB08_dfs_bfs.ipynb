{
 "cells": [
  {
   "cell_type": "markdown",
   "id": "a180ec08",
   "metadata": {},
   "source": [
    "1. dfs"
   ]
  },
  {
   "cell_type": "code",
   "execution_count": 1,
   "id": "458fac69",
   "metadata": {},
   "outputs": [
    {
     "name": "stdout",
     "output_type": "stream",
     "text": [
      "1 2 7 6 8 3 4 5 "
     ]
    }
   ],
   "source": [
    "\n",
    "def dfs(graph,v,visited):\n",
    "       visited[v]=True\n",
    "       print(v,end=' ')\n",
    "       for i in graph[v]:\n",
    "              if not visited[i]:\n",
    "                     dfs(graph,i,visited)\n",
    "graph=[[],\n",
    "       [2,3,8],\n",
    "       [1,7],\n",
    "       [1,4,5],\n",
    "       [3,5],\n",
    "       [3,4],\n",
    "       [7],\n",
    "       [2,6,8],\n",
    "       [1,7]]\n",
    "visited=[False]*9\n",
    "dfs(graph,1,visited)"
   ]
  },
  {
   "cell_type": "markdown",
   "id": "a5d98cd8",
   "metadata": {},
   "source": [
    "2. bfs"
   ]
  },
  {
   "cell_type": "code",
   "execution_count": 2,
   "id": "063558de",
   "metadata": {},
   "outputs": [
    {
     "name": "stdout",
     "output_type": "stream",
     "text": [
      "1 2 3 8 7 4 5 6 "
     ]
    }
   ],
   "source": [
    "from collections import deque\n",
    "\n",
    "def bfs(graph,start,visited):\n",
    "       queue=deque([start])\n",
    "       visited[start]=True\n",
    "       while queue:\n",
    "              v=queue.popleft()\n",
    "              print(v,end=' ')\n",
    "              for i in graph[v]:\n",
    "                     if not visited[i]:\n",
    "                            queue.append(i)\n",
    "                            visited[i]=True\n",
    "graph=[[],\n",
    "       [2,3,8],\n",
    "       [1,7],\n",
    "       [1,4,5],\n",
    "       [3,5],\n",
    "       [3,4],\n",
    "       [7],\n",
    "       [2,6,8],\n",
    "       [1,7]]\n",
    "visited=[False]*9\n",
    "bfs(graph,1,visited)"
   ]
  }
 ],
 "metadata": {
  "kernelspec": {
   "display_name": "Python 3 (ipykernel)",
   "language": "python",
   "name": "python3"
  },
  "language_info": {
   "codemirror_mode": {
    "name": "ipython",
    "version": 3
   },
   "file_extension": ".py",
   "mimetype": "text/x-python",
   "name": "python",
   "nbconvert_exporter": "python",
   "pygments_lexer": "ipython3",
   "version": "3.8.12"
  }
 },
 "nbformat": 4,
 "nbformat_minor": 5
}

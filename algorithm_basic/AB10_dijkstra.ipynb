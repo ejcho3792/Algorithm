{
 "cells": [
  {
   "cell_type": "markdown",
   "id": "b7d8bc75",
   "metadata": {},
   "source": [
    "1. 간단한 다익스트라"
   ]
  },
  {
   "cell_type": "code",
   "execution_count": null,
   "id": "8abab152",
   "metadata": {},
   "outputs": [],
   "source": [
    "import sys\n",
    "\n",
    "input = sys.stdin.readline\n",
    "INF = int(1e9)\n",
    "\n",
    "n, m = map(int,input().split())\n",
    "\n",
    "start = int(input())\n",
    "\n",
    "graph = [[] for i in range(n + 1)]\n",
    "\n",
    "visted = [False] * (n + 1)\n",
    "\n",
    "distance = [INF] * (n +1)\n",
    "\n",
    "for _ in range(m):\n",
    "    a, b, c = map(int, input().split())\n",
    "    graph[a].append((b, c))\n",
    "\n",
    "def get_smallest_node():\n",
    "    min_value = INF\n",
    "    index = 0 \n",
    "    for i in range(1, n + 1):\n",
    "        if distance[i] < min_value and not visted[i]:\n",
    "            min_value = distance[i]\n",
    "            index = i\n",
    "    return index\n",
    "\n",
    "def dijkstra(strat):\n",
    "    distance[start] = 0\n",
    "    visted[start] = True\n",
    "    for j in graph[start]:\n",
    "        distance[j[0]] = j[1]\n",
    "        \n",
    "    for i in range(n - 1):\n",
    "        now = get_smallest_node()\n",
    "        visted[now] = True\n",
    "        for j in graph[now]:\n",
    "            cost = distance[now] + j[1]\n",
    "            if cost < distance[j[0]]:\n",
    "                distance[j[0]] = cost\n",
    "\n",
    "dijkstra(start)\n",
    "\n",
    "for i in range(1, n+1):\n",
    "    if distance[i] == INF:\n",
    "        print(\"INFINITY\")\n",
    "\n",
    "    else:\n",
    "        print(distance[i])"
   ]
  },
  {
   "cell_type": "markdown",
   "id": "1e88b020",
   "metadata": {},
   "source": [
    "2. 힙"
   ]
  },
  {
   "cell_type": "code",
   "execution_count": 2,
   "id": "b779563f",
   "metadata": {},
   "outputs": [
    {
     "name": "stdout",
     "output_type": "stream",
     "text": [
      "[0, 1, 2, 3, 4, 5, 6, 7, 8, 9]\n"
     ]
    }
   ],
   "source": [
    "import heapq\n",
    "\n",
    "def heapsort(it):\n",
    "    h=[]\n",
    "    res=[]\n",
    "    for value in it:\n",
    "        heapq.heappush(h,value)\n",
    "    for i in range(len(h)):\n",
    "        res.append(heapq.heappop(h))\n",
    "    return res\n",
    "\n",
    "res=heapsort([1,3,5,7,9,2,4,6,8,0])\n",
    "print(res)"
   ]
  },
  {
   "cell_type": "code",
   "execution_count": null,
   "id": "2105daf6",
   "metadata": {},
   "outputs": [],
   "source": []
  }
 ],
 "metadata": {
  "kernelspec": {
   "display_name": "Python 3 (ipykernel)",
   "language": "python",
   "name": "python3"
  },
  "language_info": {
   "codemirror_mode": {
    "name": "ipython",
    "version": 3
   },
   "file_extension": ".py",
   "mimetype": "text/x-python",
   "name": "python",
   "nbconvert_exporter": "python",
   "pygments_lexer": "ipython3",
   "version": "3.8.12"
  }
 },
 "nbformat": 4,
 "nbformat_minor": 5
}
